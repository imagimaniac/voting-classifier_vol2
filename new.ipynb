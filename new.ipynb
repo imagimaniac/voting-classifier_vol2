# hello

import pandas as pd


print("ok")
